{
 "cells": [
  {
   "cell_type": "code",
   "execution_count": 1,
   "metadata": {},
   "outputs": [
    {
     "data": {
      "text/plain": [
       "28"
      ]
     },
     "execution_count": 1,
     "metadata": {},
     "output_type": "execute_result"
    }
   ],
   "source": [
    "%matplotlib inline\n",
    "import torch\n",
    "import matplotlib.pyplot as plt\n",
    "import atn.ATN as ATN\n",
    "import tool.common as cm\n",
    "import mnist_attak.train_cnn\n",
    "import atn_train\n",
    "sigmoid_norm = atn_train.sigmoid_norm\n",
    "CNN_1 = mnist_attak.train_cnn.CNN_1\n",
    "CNN_2 = mnist_attak.train_cnn.CNN_2\n",
    "nn = torch.nn\n",
    "_, __, x_test, y_test = cm.load_data('mnist')\n",
    "del _\n",
    "del __\n",
    "import gc\n",
    "gc.collect()"
   ]
  },
  {
   "cell_type": "markdown",
   "metadata": {},
   "source": [
    "## File name convention:\n",
    "Two different kinds of GATN (GATN_FC/GATN_CONV), two different kinds of CNN (CNN_1/CNN_2), ten differnet target, in total 40 models\n",
    "\n",
    "for example, 'GatnFC_mnistCNN_1_target7' is GatnFC trained on MNIST of classifer type CNN_1 and target 7\n",
    "\n",
    "to see the result, please follow instruction below:\n",
    "\n",
    "#### 1. specify what mnist classifer you want to attack\n",
    "change following code\n",
    "```python\n",
    "CNN_FILE_PATH = 'data/mnist_CNN_1_model_params.pkl' # if you attack CNN_2, change 1 to 2\n",
    "cnn_mnist = CNN_1() # if you attack CNN_2, change 1 to 2\n",
    "```\n",
    "#### 2. specify the Gatn you used to attack\n",
    "```python\n",
    "ATN_FILE_PATH = 'data/GatnFC_mnistCNN_1_target8.parameter' \n",
    "# if you attack CNN_1, change CNN_1 to CNN_2\n",
    "# change the target number to one of 0-9 you with to attack BOTH in the FILE_PATH and target\n",
    "target = 8\n",
    "# if you use GatnConv to attack, change 'GatnFC' to 'GatnConv' in FILE_PATH and use ATN.GATN_Conv\n",
    "atn = ATN.GATN_FC()\n",
    "```\n",
    "#### 3. change idx below and start exploring\n",
    "the idx should be a number in 0-9999, naming one of MNIST test set example"
   ]
  },
  {
   "cell_type": "code",
   "execution_count": 2,
   "metadata": {},
   "outputs": [
    {
     "name": "stdout",
     "output_type": "stream",
     "text": [
      "|test accuracy:0.1462 |target rate:0.9367\n"
     ]
    }
   ],
   "source": [
    "# loading \n",
    "CNN_FILE_PATH = 'data/mnist_CNN_1_model_params.pkl'\n",
    "cnn_mnist = CNN_1()\n",
    "cnn_mnist.load_state_dict(torch.load(CNN_FILE_PATH))\n",
    "\n",
    "ATN_FILE_PATH = 'data/GatnConv_mnistCNN_1_target4.parameter'\n",
    "atn = ATN.GATN_Conv()\n",
    "atn.load_state_dict(torch.load(ATN_FILE_PATH))\n",
    "target = 4\n",
    "\n",
    "# calculating accuracy and target rate\n",
    "x_test_grad = atn_train.cal_grad_target(x_test, cnn_mnist, target)\n",
    "x_adv_test = atn(x_test, x_test_grad)\n",
    "y_pred = cnn_mnist(x_adv_test)\n",
    "acc, targetrate = atn_train.accuracy(y_pred, y_test, target)\n",
    "print('|test accuracy:%.4f' % acc, '|target rate:%.4f' % targetrate)"
   ]
  },
  {
   "cell_type": "code",
   "execution_count": 3,
   "metadata": {},
   "outputs": [],
   "source": [
    "idx = 668"
   ]
  },
  {
   "cell_type": "markdown",
   "metadata": {},
   "source": [
    "### This is original image and original output class"
   ]
  },
  {
   "cell_type": "code",
   "execution_count": 29,
   "metadata": {},
   "outputs": [
    {
     "data": {
      "image/png": "[encoded data removed]",
      "text/plain": [
       "<Figure size 432x288 with 1 Axes>"
      ]
     },
     "metadata": {},
     "output_type": "display_data"
    }
   ],
   "source": [
    "idx += 1\n",
    "x_original = x_test[idx].reshape(1,1,28,28)\n",
    "\n",
    "before_pro = cnn_mnist(x_original)\n",
    "cm.imshow(x_original, torch.argmax(before_pro,dim=1).item())"
   ]
  },
  {
   "cell_type": "markdown",
   "metadata": {},
   "source": [
    "### This is adversarial image and attacked output class"
   ]
  },
  {
   "cell_type": "code",
   "execution_count": 30,
   "metadata": {
    "scrolled": true
   },
   "outputs": [
    {
     "data": {
      "image/png": "[encoded data removed]",
      "text/plain": [
       "<Figure size 432x288 with 1 Axes>"
      ]
     },
     "metadata": {},
     "output_type": "display_data"
    },
    {
     "name": "stdout",
     "output_type": "stream",
     "text": [
      "original probability tensor:  tensor([[ 6.1435e-05,  2.9391e-05,  8.2617e-06,  1.2810e-05,  2.4816e-04,\n",
      "          4.7398e-05,  4.0662e-05,  3.9060e-04,  1.4927e-04,  9.9901e-01]])\n",
      "adversarial probability tensor:  tensor([[ 0.0003,  0.0002,  0.0000,  0.0000,  0.9894,  0.0002,  0.0008,\n",
      "          0.0008,  0.0004,  0.0078]])\n"
     ]
    }
   ],
   "source": [
    "x_grad = atn_train.cal_grad_target(x_original, cnn_mnist, target)\n",
    "x_adv = atn(x_original, x_grad)\n",
    "#x_adv = atn(x_original) \n",
    "x_adv_detach = x_adv.detach()\n",
    "\n",
    "\n",
    "after_pro = cnn_mnist(x_adv)\n",
    "cm.imshow(x_adv_detach,torch.argmax(after_pro,dim=1).item())\n",
    "print(\"original probability tensor: \", before_pro)\n",
    "print(\"adversarial probability tensor: \", after_pro )\n",
    "#print(\"reranking function\", atn_train.reranking(sigmoid_norm(cnn_mnist(x_original)),1, 11) )"
   ]
  },
  {
   "cell_type": "markdown",
   "metadata": {},
   "source": [
    "### This show the perturbation on the image"
   ]
  },
  {
   "cell_type": "code",
   "execution_count": 31,
   "metadata": {},
   "outputs": [
    {
     "data": {
      "image/png": "[encoded data removed]",
      "text/plain": [
       "<Figure size 432x288 with 1 Axes>"
      ]
     },
     "metadata": {},
     "output_type": "display_data"
    }
   ],
   "source": [
    "cm.imshow( x_adv_detach - x_original, 1)"
   ]
  },
  {
   "cell_type": "markdown",
   "metadata": {},
   "source": [
    "## If you have time, you can help write a function that can plot many images at the same time..."
   ]
  },
  {
   "cell_type": "code",
   "execution_count": null,
   "metadata": {},
   "outputs": [],
   "source": []
  }
 ],
 "metadata": {
  "kernelspec": {
   "display_name": "Python 3",
   "language": "python",
   "name": "python3"
  },
  "language_info": {
   "codemirror_mode": {
    "name": "ipython",
    "version": 3
   },
   "file_extension": ".py",
   "mimetype": "text/x-python",
   "name": "python",
   "nbconvert_exporter": "python",
   "pygments_lexer": "ipython3",
   "version": "3.6.5"
  }
 },
 "nbformat": 4,
 "nbformat_minor": 2
}
